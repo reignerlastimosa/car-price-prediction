{
  "cells": [
    {
      "cell_type": "markdown",
      "metadata": {
        "id": "view-in-github",
        "colab_type": "text"
      },
      "source": [
        "<a href=\"https://colab.research.google.com/github/reignerlastimosa/car-price-prediction/blob/main/3ISA_lastimosa_reigner_backward_elim.ipynb\" target=\"_parent\"><img src=\"https://colab.research.google.com/assets/colab-badge.svg\" alt=\"Open In Colab\"/></a>"
      ]
    },
    {
      "cell_type": "code",
      "execution_count": null,
      "id": "8dccc1e7",
      "metadata": {
        "id": "8dccc1e7",
        "outputId": "41871c58-376a-4371-e1b6-8b60cff8c364"
      },
      "outputs": [
        {
          "name": "stderr",
          "output_type": "stream",
          "text": [
            "C:\\Users\\Reigner\\anaconda3\\lib\\site-packages\\statsmodels\\compat\\pandas.py:61: FutureWarning: pandas.Int64Index is deprecated and will be removed from pandas in a future version. Use pandas.Index with the appropriate dtype instead.\n",
            "  from pandas import Int64Index as NumericIndex\n"
          ]
        }
      ],
      "source": [
        "import numpy as nm  \n",
        "import matplotlib.pyplot as mtp  \n",
        "import pandas as pd  \n",
        "import statsmodels.formula.api as sm \n"
      ]
    },
    {
      "cell_type": "code",
      "execution_count": null,
      "id": "fb75c16e",
      "metadata": {
        "id": "fb75c16e"
      },
      "outputs": [],
      "source": [
        "data=pd.read_csv('CarPrice_Assignment.csv')\n"
      ]
    },
    {
      "cell_type": "code",
      "execution_count": null,
      "id": "afdb14f9",
      "metadata": {
        "id": "afdb14f9"
      },
      "outputs": [],
      "source": [
        "data_sample = data.sample(n=100,replace = True, random_state=22)"
      ]
    },
    {
      "cell_type": "code",
      "execution_count": null,
      "id": "ca19b746",
      "metadata": {
        "id": "ca19b746"
      },
      "outputs": [],
      "source": [
        "x = data_sample.iloc[:,[9,10,11,12,13,16,18,19,20,21,22,23,24]].values\n",
        "y = data_sample.iloc[:, -1].values"
      ]
    },
    {
      "cell_type": "code",
      "execution_count": null,
      "id": "99e030ed",
      "metadata": {
        "id": "99e030ed",
        "outputId": "045ff5ad-915c-4e7e-8a68-c0e0892c0cf1"
      },
      "outputs": [
        {
          "name": "stdout",
          "output_type": "stream",
          "text": [
            "[[ 108.   186.7   68.3 ... 5600.    18.    24. ]\n",
            " [  99.1  186.6   66.5 ... 5250.    21.    28. ]\n",
            " [  94.5  155.9   63.6 ... 5400.    38.    43. ]\n",
            " ...\n",
            " [  94.5  165.3   63.8 ... 5200.    31.    37. ]\n",
            " [  98.8  177.8   66.5 ... 4650.    36.    42. ]\n",
            " [ 102.9  183.5   67.7 ... 5200.    19.    24. ]]\n"
          ]
        }
      ],
      "source": [
        "print(x)\n"
      ]
    },
    {
      "cell_type": "code",
      "execution_count": null,
      "id": "5b1138e9",
      "metadata": {
        "id": "5b1138e9",
        "outputId": "06c3ebbd-3e79-41fd-e3ee-d67357504871"
      },
      "outputs": [
        {
          "name": "stdout",
          "output_type": "stream",
          "text": [
            "[18150.  11850.   8916.5 13845.   9549.  14399.  14489.  18150.   7463.\n",
            " 24565.   8916.5  7349.   8449.   7129.   9989.  34028.  23875.   9639.\n",
            " 12170.  15580.   8558.  14489.   9258.  12964.   8499.   9095.   6692.\n",
            " 10198.   6295.  12940.  18920.   8778.  13499.   7957.   7957.  19699.\n",
            "  7053.   7126.   6795.  22470.  17950.  13499.  32250.  16695.  31400.5\n",
            "  9988.  14869.  15645.   8495.  35550.   7349.   9495.  18280.   7349.\n",
            " 11694.  13200.   6695.  18620.  14489.  11259.   6795.   9895.  16630.\n",
            "  9549.   7053.   7198.   7499.  13415.  15040.   7689.   9995.   6938.\n",
            "  7738.   5499.  15750.   9959.   9279.  36880.  11595.  18150.   6488.\n",
            " 10198.  10245.  18399.  15250.  18420.  12440.  15250.  31600.  13645.\n",
            "  9980.  28176.  13495.  10245.  11248.   7463.  19699.   7499.  10795.\n",
            " 15998. ]\n"
          ]
        }
      ],
      "source": [
        "print(y)\n"
      ]
    },
    {
      "cell_type": "code",
      "execution_count": null,
      "id": "3e4d9a3f",
      "metadata": {
        "id": "3e4d9a3f"
      },
      "outputs": [],
      "source": [
        "from sklearn.model_selection import train_test_split  \n",
        "X_train, X_test, y_train, y_test= train_test_split(x, y, test_size= 0.2, random_state=0) "
      ]
    },
    {
      "cell_type": "code",
      "execution_count": null,
      "id": "785e63fa",
      "metadata": {
        "id": "785e63fa",
        "outputId": "93ee546f-80f1-455a-eb49-1c0d48205002"
      },
      "outputs": [
        {
          "data": {
            "text/plain": [
              "LinearRegression()"
            ]
          },
          "execution_count": 8,
          "metadata": {},
          "output_type": "execute_result"
        }
      ],
      "source": [
        "\n",
        "from sklearn.linear_model import LinearRegression  \n",
        "regressor= LinearRegression()  \n",
        "regressor.fit(X_train, y_train)  "
      ]
    },
    {
      "cell_type": "code",
      "execution_count": null,
      "id": "fd7930f3",
      "metadata": {
        "id": "fd7930f3"
      },
      "outputs": [],
      "source": [
        "y_pred= regressor.predict(X_test)  \n"
      ]
    },
    {
      "cell_type": "code",
      "execution_count": null,
      "id": "b74c910d",
      "metadata": {
        "id": "b74c910d",
        "outputId": "0ab0c645-f6ad-416c-8bb9-097a04088b1c"
      },
      "outputs": [
        {
          "name": "stdout",
          "output_type": "stream",
          "text": [
            "Train Score:  0.8374856813147142\n",
            "Test Score:  0.644379913060416\n"
          ]
        }
      ],
      "source": [
        "print('Train Score: ', regressor.score(X_train, y_train))  \n",
        "print('Test Score: ', regressor.score(X_test, y_test))  "
      ]
    },
    {
      "cell_type": "code",
      "execution_count": null,
      "id": "2625ab0f",
      "metadata": {
        "id": "2625ab0f",
        "outputId": "51aacb70-bd7b-465b-9904-eab602746bf0"
      },
      "outputs": [
        {
          "name": "stdout",
          "output_type": "stream",
          "text": [
            "                                 OLS Regression Results                                \n",
            "=======================================================================================\n",
            "Dep. Variable:                      y   R-squared (uncentered):                   0.964\n",
            "Model:                            OLS   Adj. R-squared (uncentered):              0.956\n",
            "Method:                 Least Squares   F-statistic:                              136.1\n",
            "Date:                Thu, 31 Mar 2022   Prob (F-statistic):                    7.86e-43\n",
            "Time:                        02:42:23   Log-Likelihood:                         -753.81\n",
            "No. Observations:                  80   AIC:                                      1534.\n",
            "Df Residuals:                      67   BIC:                                      1565.\n",
            "Df Model:                          13                                                  \n",
            "Covariance Type:            nonrobust                                                  \n",
            "==============================================================================\n",
            "                 coef    std err          t      P>|t|      [0.025      0.975]\n",
            "------------------------------------------------------------------------------\n",
            "x1           518.4226    175.818      2.949      0.004     167.488     869.357\n",
            "x2          -152.2684     96.259     -1.582      0.118    -344.403      39.866\n",
            "x3          -312.8089    319.149     -0.980      0.331    -949.833     324.215\n",
            "x4           -86.2434    249.670     -0.345      0.731    -584.587     412.101\n",
            "x5             1.8597      2.655      0.700      0.486      -3.440       7.159\n",
            "x6            79.1174     26.658      2.968      0.004      25.907     132.328\n",
            "x7         -2103.5414   1852.181     -1.136      0.260   -5800.511    1593.428\n",
            "x8         -2017.5472   1172.343     -1.721      0.090   -4357.554     322.460\n",
            "x9           582.1983    137.342      4.239      0.000     308.063     856.333\n",
            "x10           55.0412     28.102      1.959      0.054      -1.051     111.134\n",
            "x11            1.0479      1.246      0.841      0.403      -1.438       3.534\n",
            "x12         -628.7531    445.857     -1.410      0.163   -1518.687     261.181\n",
            "x13          360.0246    403.766      0.892      0.376    -445.895    1165.944\n",
            "==============================================================================\n",
            "Omnibus:                       13.188   Durbin-Watson:                   2.298\n",
            "Prob(Omnibus):                  0.001   Jarque-Bera (JB):               25.732\n",
            "Skew:                           0.533   Prob(JB):                     2.59e-06\n",
            "Kurtosis:                       5.566   Cond. No.                     2.92e+04\n",
            "==============================================================================\n",
            "\n",
            "Notes:\n",
            "[1] R² is computed without centering (uncentered) since the model does not contain a constant.\n",
            "[2] Standard Errors assume that the covariance matrix of the errors is correctly specified.\n",
            "[3] The condition number is large, 2.92e+04. This might indicate that there are\n",
            "strong multicollinearity or other numerical problems.\n"
          ]
        }
      ],
      "source": [
        "import statsmodels.api as sm\n",
        "regressor_OLS=sm.OLS(y_train,X_train)\n",
        "regressor_OLS= regressor_OLS.fit()\n",
        "print(regressor_OLS.summary())"
      ]
    },
    {
      "cell_type": "code",
      "execution_count": null,
      "id": "ebdd1abf",
      "metadata": {
        "id": "ebdd1abf",
        "outputId": "31c94e57-4c62-45db-d19a-927b00b4e6f2"
      },
      "outputs": [
        {
          "name": "stdout",
          "output_type": "stream",
          "text": [
            "                                 OLS Regression Results                                \n",
            "=======================================================================================\n",
            "Dep. Variable:                  Price   R-squared (uncentered):                   0.964\n",
            "Model:                            OLS   Adj. R-squared (uncentered):              0.956\n",
            "Method:                 Least Squares   F-statistic:                              136.1\n",
            "Date:                Thu, 31 Mar 2022   Prob (F-statistic):                    7.86e-43\n",
            "Time:                        02:42:23   Log-Likelihood:                         -753.81\n",
            "No. Observations:                  80   AIC:                                      1534.\n",
            "Df Residuals:                      67   BIC:                                      1565.\n",
            "Df Model:                          13                                                  \n",
            "Covariance Type:            nonrobust                                                  \n",
            "=====================================================================================\n",
            "                        coef    std err          t      P>|t|      [0.025      0.975]\n",
            "-------------------------------------------------------------------------------------\n",
            "Wheel Base          518.4226    175.818      2.949      0.004     167.488     869.357\n",
            "Car Length         -152.2684     96.259     -1.582      0.118    -344.403      39.866\n",
            "Car Width          -312.8089    319.149     -0.980      0.331    -949.833     324.215\n",
            "Car Height          -86.2434    249.670     -0.345      0.731    -584.587     412.101\n",
            "Curb Weight           1.8597      2.655      0.700      0.486      -3.440       7.159\n",
            "Engine Size          79.1174     26.658      2.968      0.004      25.907     132.328\n",
            "Bore Ratio        -2103.5414   1852.181     -1.136      0.260   -5800.511    1593.428\n",
            "Stroke            -2017.5472   1172.343     -1.721      0.090   -4357.554     322.460\n",
            "Compression Ratio   582.1983    137.342      4.239      0.000     308.063     856.333\n",
            "Horsepower           55.0412     28.102      1.959      0.054      -1.051     111.134\n",
            "Peak rpm              1.0479      1.246      0.841      0.403      -1.438       3.534\n",
            "City mpg           -628.7531    445.857     -1.410      0.163   -1518.687     261.181\n",
            "Highway mpg         360.0246    403.766      0.892      0.376    -445.895    1165.944\n",
            "==============================================================================\n",
            "Omnibus:                       13.188   Durbin-Watson:                   2.298\n",
            "Prob(Omnibus):                  0.001   Jarque-Bera (JB):               25.732\n",
            "Skew:                           0.533   Prob(JB):                     2.59e-06\n",
            "Kurtosis:                       5.566   Cond. No.                     2.92e+04\n",
            "==============================================================================\n",
            "\n",
            "Notes:\n",
            "[1] R² is computed without centering (uncentered) since the model does not contain a constant.\n",
            "[2] Standard Errors assume that the covariance matrix of the errors is correctly specified.\n",
            "[3] The condition number is large, 2.92e+04. This might indicate that there are\n",
            "strong multicollinearity or other numerical problems.\n"
          ]
        }
      ],
      "source": [
        "print(regressor_OLS.summary(xname=['Wheel Base','Car Length', 'Car Width','Car Height', 'Curb Weight', 'Engine Size', 'Bore Ratio', 'Stroke', 'Compression Ratio', 'Horsepower', 'Peak rpm','City mpg', 'Highway mpg' ], yname='Price'))"
      ]
    },
    {
      "cell_type": "code",
      "execution_count": null,
      "id": "ffc98560",
      "metadata": {
        "id": "ffc98560",
        "outputId": "1746c64f-14de-4154-c0ef-fe4c81c77a08"
      },
      "outputs": [
        {
          "name": "stdout",
          "output_type": "stream",
          "text": [
            "                                 OLS Regression Results                                \n",
            "=======================================================================================\n",
            "Dep. Variable:                      y   R-squared (uncentered):                   0.963\n",
            "Model:                            OLS   Adj. R-squared (uncentered):              0.957\n",
            "Method:                 Least Squares   F-statistic:                              149.3\n",
            "Date:                Thu, 31 Mar 2022   Prob (F-statistic):                    6.65e-44\n",
            "Time:                        02:42:23   Log-Likelihood:                         -753.89\n",
            "No. Observations:                  80   AIC:                                      1532.\n",
            "Df Residuals:                      68   BIC:                                      1560.\n",
            "Df Model:                          12                                                  \n",
            "Covariance Type:            nonrobust                                                  \n",
            "==============================================================================\n",
            "                 coef    std err          t      P>|t|      [0.025      0.975]\n",
            "------------------------------------------------------------------------------\n",
            "x1           518.5765    174.675      2.969      0.004     170.018     867.135\n",
            "x2          -166.2712     86.740     -1.917      0.059    -339.359       6.816\n",
            "x3          -338.5620    308.303     -1.098      0.276    -953.770     276.646\n",
            "x4             1.7420      2.616      0.666      0.508      -3.478       6.962\n",
            "x5            80.2054     26.300      3.050      0.003      27.725     132.685\n",
            "x6         -2149.6442   1835.365     -1.171      0.246   -5812.057    1512.769\n",
            "x7         -1906.7281   1120.267     -1.702      0.093   -4142.187     328.731\n",
            "x8           589.4861    134.830      4.372      0.000     320.438     858.535\n",
            "x9            57.1701     27.240      2.099      0.040       2.813     111.527\n",
            "x10            0.9841      1.224      0.804      0.424      -1.458       3.426\n",
            "x11         -635.6545    442.515     -1.436      0.155   -1518.680     247.371\n",
            "x12          348.7085    399.820      0.872      0.386    -449.120    1146.537\n",
            "==============================================================================\n",
            "Omnibus:                       12.046   Durbin-Watson:                   2.293\n",
            "Prob(Omnibus):                  0.002   Jarque-Bera (JB):               23.475\n",
            "Skew:                           0.468   Prob(JB):                     7.99e-06\n",
            "Kurtosis:                       5.483   Cond. No.                     2.91e+04\n",
            "==============================================================================\n",
            "\n",
            "Notes:\n",
            "[1] R² is computed without centering (uncentered) since the model does not contain a constant.\n",
            "[2] Standard Errors assume that the covariance matrix of the errors is correctly specified.\n",
            "[3] The condition number is large, 2.91e+04. This might indicate that there are\n",
            "strong multicollinearity or other numerical problems.\n"
          ]
        }
      ],
      "source": [
        "x = data_sample.iloc[:,[9,10,11,13,16,18,19,20,21,22,23,24]].values\n",
        "X_train, X_test, y_train, y_test= train_test_split(x, y, test_size= 0.2, random_state=0) \n",
        "regressor_OLS=sm.OLS(y_train,X_train)\n",
        "regressor_OLS= regressor_OLS.fit()\n",
        "print(regressor_OLS.summary())"
      ]
    },
    {
      "cell_type": "code",
      "execution_count": null,
      "id": "b8434178",
      "metadata": {
        "id": "b8434178",
        "outputId": "ac918000-1a7d-4237-f762-ce570c4140ed"
      },
      "outputs": [
        {
          "name": "stdout",
          "output_type": "stream",
          "text": [
            "                                 OLS Regression Results                                \n",
            "=======================================================================================\n",
            "Dep. Variable:                  Price   R-squared (uncentered):                   0.963\n",
            "Model:                            OLS   Adj. R-squared (uncentered):              0.957\n",
            "Method:                 Least Squares   F-statistic:                              149.3\n",
            "Date:                Thu, 31 Mar 2022   Prob (F-statistic):                    6.65e-44\n",
            "Time:                        02:42:23   Log-Likelihood:                         -753.89\n",
            "No. Observations:                  80   AIC:                                      1532.\n",
            "Df Residuals:                      68   BIC:                                      1560.\n",
            "Df Model:                          12                                                  \n",
            "Covariance Type:            nonrobust                                                  \n",
            "=====================================================================================\n",
            "                        coef    std err          t      P>|t|      [0.025      0.975]\n",
            "-------------------------------------------------------------------------------------\n",
            "Wheel Base          518.5765    174.675      2.969      0.004     170.018     867.135\n",
            "Car Length         -166.2712     86.740     -1.917      0.059    -339.359       6.816\n",
            "Car Width          -338.5620    308.303     -1.098      0.276    -953.770     276.646\n",
            "Curb Weight           1.7420      2.616      0.666      0.508      -3.478       6.962\n",
            "Engine Size          80.2054     26.300      3.050      0.003      27.725     132.685\n",
            "Bore Ratio        -2149.6442   1835.365     -1.171      0.246   -5812.057    1512.769\n",
            "Stroke            -1906.7281   1120.267     -1.702      0.093   -4142.187     328.731\n",
            "Compression Ratio   589.4861    134.830      4.372      0.000     320.438     858.535\n",
            "Horsepower           57.1701     27.240      2.099      0.040       2.813     111.527\n",
            "Peak rpm              0.9841      1.224      0.804      0.424      -1.458       3.426\n",
            "City mpg           -635.6545    442.515     -1.436      0.155   -1518.680     247.371\n",
            "Highway mpg         348.7085    399.820      0.872      0.386    -449.120    1146.537\n",
            "==============================================================================\n",
            "Omnibus:                       12.046   Durbin-Watson:                   2.293\n",
            "Prob(Omnibus):                  0.002   Jarque-Bera (JB):               23.475\n",
            "Skew:                           0.468   Prob(JB):                     7.99e-06\n",
            "Kurtosis:                       5.483   Cond. No.                     2.91e+04\n",
            "==============================================================================\n",
            "\n",
            "Notes:\n",
            "[1] R² is computed without centering (uncentered) since the model does not contain a constant.\n",
            "[2] Standard Errors assume that the covariance matrix of the errors is correctly specified.\n",
            "[3] The condition number is large, 2.91e+04. This might indicate that there are\n",
            "strong multicollinearity or other numerical problems.\n"
          ]
        }
      ],
      "source": [
        "print(regressor_OLS.summary(xname=['Wheel Base','Car Length', 'Car Width','Curb Weight', 'Engine Size', 'Bore Ratio', 'Stroke', 'Compression Ratio', 'Horsepower', 'Peak rpm','City mpg', 'Highway mpg' ], yname='Price'))"
      ]
    },
    {
      "cell_type": "code",
      "execution_count": null,
      "id": "b15c76c6",
      "metadata": {
        "id": "b15c76c6",
        "outputId": "a70b269e-0260-4286-843f-a6c4c3cc06c2"
      },
      "outputs": [
        {
          "name": "stdout",
          "output_type": "stream",
          "text": [
            "                                 OLS Regression Results                                \n",
            "=======================================================================================\n",
            "Dep. Variable:                      y   R-squared (uncentered):                   0.963\n",
            "Model:                            OLS   Adj. R-squared (uncentered):              0.957\n",
            "Method:                 Least Squares   F-statistic:                              164.2\n",
            "Date:                Thu, 31 Mar 2022   Prob (F-statistic):                    6.30e-45\n",
            "Time:                        02:42:23   Log-Likelihood:                         -754.15\n",
            "No. Observations:                  80   AIC:                                      1530.\n",
            "Df Residuals:                      69   BIC:                                      1556.\n",
            "Df Model:                          11                                                  \n",
            "Covariance Type:            nonrobust                                                  \n",
            "==============================================================================\n",
            "                 coef    std err          t      P>|t|      [0.025      0.975]\n",
            "------------------------------------------------------------------------------\n",
            "x1           546.9635    168.709      3.242      0.002     210.398     883.529\n",
            "x2          -151.5488     83.536     -1.814      0.074    -318.199      15.102\n",
            "x3          -331.1016    306.854     -1.079      0.284    -943.258     281.055\n",
            "x4            85.9227     24.758      3.470      0.001      36.531     135.314\n",
            "x5         -2249.7005   1821.812     -1.235      0.221   -5884.115    1384.714\n",
            "x6         -1989.1317   1108.912     -1.794      0.077   -4201.351     223.088\n",
            "x7           615.3124    128.610      4.784      0.000     358.743     871.881\n",
            "x8            62.6561     25.859      2.423      0.018      11.068     114.244\n",
            "x9             0.8076      1.190      0.679      0.500      -1.566       3.182\n",
            "x10         -595.8412    436.686     -1.364      0.177   -1467.005     275.323\n",
            "x11          269.2871    380.075      0.709      0.481    -488.941    1027.515\n",
            "==============================================================================\n",
            "Omnibus:                        9.906   Durbin-Watson:                   2.255\n",
            "Prob(Omnibus):                  0.007   Jarque-Bera (JB):               17.776\n",
            "Skew:                           0.376   Prob(JB):                     0.000138\n",
            "Kurtosis:                       5.183   Cond. No.                     2.57e+04\n",
            "==============================================================================\n",
            "\n",
            "Notes:\n",
            "[1] R² is computed without centering (uncentered) since the model does not contain a constant.\n",
            "[2] Standard Errors assume that the covariance matrix of the errors is correctly specified.\n",
            "[3] The condition number is large, 2.57e+04. This might indicate that there are\n",
            "strong multicollinearity or other numerical problems.\n"
          ]
        }
      ],
      "source": [
        "x = data_sample.iloc[:,[9,10,11,16,18,19,20,21,22,23,24]].values\n",
        "X_train, X_test, y_train, y_test= train_test_split(x, y, test_size= 0.2, random_state=0) \n",
        "regressor_OLS=sm.OLS(y_train,X_train)\n",
        "regressor_OLS= regressor_OLS.fit()\n",
        "print(regressor_OLS.summary())"
      ]
    },
    {
      "cell_type": "code",
      "execution_count": null,
      "id": "714d8301",
      "metadata": {
        "id": "714d8301",
        "outputId": "ab39ed6c-597c-4549-a2c0-cb83c06ba441"
      },
      "outputs": [
        {
          "name": "stdout",
          "output_type": "stream",
          "text": [
            "                                 OLS Regression Results                                \n",
            "=======================================================================================\n",
            "Dep. Variable:                  Price   R-squared (uncentered):                   0.963\n",
            "Model:                            OLS   Adj. R-squared (uncentered):              0.957\n",
            "Method:                 Least Squares   F-statistic:                              164.2\n",
            "Date:                Thu, 31 Mar 2022   Prob (F-statistic):                    6.30e-45\n",
            "Time:                        02:42:23   Log-Likelihood:                         -754.15\n",
            "No. Observations:                  80   AIC:                                      1530.\n",
            "Df Residuals:                      69   BIC:                                      1556.\n",
            "Df Model:                          11                                                  \n",
            "Covariance Type:            nonrobust                                                  \n",
            "=====================================================================================\n",
            "                        coef    std err          t      P>|t|      [0.025      0.975]\n",
            "-------------------------------------------------------------------------------------\n",
            "Wheel Base          546.9635    168.709      3.242      0.002     210.398     883.529\n",
            "Car Length         -151.5488     83.536     -1.814      0.074    -318.199      15.102\n",
            "Car Width          -331.1016    306.854     -1.079      0.284    -943.258     281.055\n",
            "Engine Size          85.9227     24.758      3.470      0.001      36.531     135.314\n",
            "Bore Ratio        -2249.7005   1821.812     -1.235      0.221   -5884.115    1384.714\n",
            "Stroke            -1989.1317   1108.912     -1.794      0.077   -4201.351     223.088\n",
            "Compression Ratio   615.3124    128.610      4.784      0.000     358.743     871.881\n",
            "Horsepower           62.6561     25.859      2.423      0.018      11.068     114.244\n",
            "Peak rpm              0.8076      1.190      0.679      0.500      -1.566       3.182\n",
            "City mpg           -595.8412    436.686     -1.364      0.177   -1467.005     275.323\n",
            "Highway mpg         269.2871    380.075      0.709      0.481    -488.941    1027.515\n",
            "==============================================================================\n",
            "Omnibus:                        9.906   Durbin-Watson:                   2.255\n",
            "Prob(Omnibus):                  0.007   Jarque-Bera (JB):               17.776\n",
            "Skew:                           0.376   Prob(JB):                     0.000138\n",
            "Kurtosis:                       5.183   Cond. No.                     2.57e+04\n",
            "==============================================================================\n",
            "\n",
            "Notes:\n",
            "[1] R² is computed without centering (uncentered) since the model does not contain a constant.\n",
            "[2] Standard Errors assume that the covariance matrix of the errors is correctly specified.\n",
            "[3] The condition number is large, 2.57e+04. This might indicate that there are\n",
            "strong multicollinearity or other numerical problems.\n"
          ]
        }
      ],
      "source": [
        "print(regressor_OLS.summary(xname=['Wheel Base','Car Length', 'Car Width', 'Engine Size', 'Bore Ratio', 'Stroke', 'Compression Ratio', 'Horsepower', 'Peak rpm','City mpg', 'Highway mpg' ], yname='Price'))"
      ]
    },
    {
      "cell_type": "code",
      "execution_count": null,
      "id": "a104bff7",
      "metadata": {
        "id": "a104bff7",
        "outputId": "d8b3c79b-804c-4635-d13d-691d75ef9589"
      },
      "outputs": [
        {
          "name": "stdout",
          "output_type": "stream",
          "text": [
            "                                 OLS Regression Results                                \n",
            "=======================================================================================\n",
            "Dep. Variable:                      y   R-squared (uncentered):                   0.963\n",
            "Model:                            OLS   Adj. R-squared (uncentered):              0.958\n",
            "Method:                 Least Squares   F-statistic:                              182.0\n",
            "Date:                Thu, 31 Mar 2022   Prob (F-statistic):                    5.70e-46\n",
            "Time:                        02:42:23   Log-Likelihood:                         -754.41\n",
            "No. Observations:                  80   AIC:                                      1529.\n",
            "Df Residuals:                      70   BIC:                                      1553.\n",
            "Df Model:                          10                                                  \n",
            "Covariance Type:            nonrobust                                                  \n",
            "==============================================================================\n",
            "                 coef    std err          t      P>|t|      [0.025      0.975]\n",
            "------------------------------------------------------------------------------\n",
            "x1           536.8869    167.406      3.207      0.002     203.007     870.767\n",
            "x2          -146.7509     82.915     -1.770      0.081    -312.120      18.619\n",
            "x3          -253.1559    283.452     -0.893      0.375    -818.483     312.172\n",
            "x4            77.7942     21.585      3.604      0.001      34.745     120.844\n",
            "x5         -2501.8359   1776.645     -1.408      0.164   -6045.243    1041.571\n",
            "x6         -1845.0962   1084.213     -1.702      0.093   -4007.490     317.298\n",
            "x7           584.3531    119.784      4.878      0.000     345.452     823.254\n",
            "x8            68.3555     24.363      2.806      0.006      19.764     116.947\n",
            "x9          -629.5866    432.171     -1.457      0.150   -1491.524     232.351\n",
            "x10          303.3457    375.293      0.808      0.422    -445.152    1051.844\n",
            "==============================================================================\n",
            "Omnibus:                       12.381   Durbin-Watson:                   2.243\n",
            "Prob(Omnibus):                  0.002   Jarque-Bera (JB):               22.962\n",
            "Skew:                           0.512   Prob(JB):                     1.03e-05\n",
            "Kurtosis:                       5.416   Cond. No.                     1.38e+03\n",
            "==============================================================================\n",
            "\n",
            "Notes:\n",
            "[1] R² is computed without centering (uncentered) since the model does not contain a constant.\n",
            "[2] Standard Errors assume that the covariance matrix of the errors is correctly specified.\n",
            "[3] The condition number is large, 1.38e+03. This might indicate that there are\n",
            "strong multicollinearity or other numerical problems.\n"
          ]
        }
      ],
      "source": [
        "x = data_sample.iloc[:,[9,10,11,16,18,19,20,21,23,24]].values\n",
        "X_train, X_test, y_train, y_test= train_test_split(x, y, test_size= 0.2, random_state=0) \n",
        "regressor_OLS=sm.OLS(y_train,X_train)\n",
        "regressor_OLS= regressor_OLS.fit()\n",
        "print(regressor_OLS.summary())"
      ]
    },
    {
      "cell_type": "code",
      "execution_count": null,
      "id": "7d6e357d",
      "metadata": {
        "id": "7d6e357d",
        "outputId": "b637ee18-c32a-49d3-d665-df1c83c89696"
      },
      "outputs": [
        {
          "name": "stdout",
          "output_type": "stream",
          "text": [
            "                                 OLS Regression Results                                \n",
            "=======================================================================================\n",
            "Dep. Variable:                  Price   R-squared (uncentered):                   0.963\n",
            "Model:                            OLS   Adj. R-squared (uncentered):              0.958\n",
            "Method:                 Least Squares   F-statistic:                              182.0\n",
            "Date:                Thu, 31 Mar 2022   Prob (F-statistic):                    5.70e-46\n",
            "Time:                        02:42:24   Log-Likelihood:                         -754.41\n",
            "No. Observations:                  80   AIC:                                      1529.\n",
            "Df Residuals:                      70   BIC:                                      1553.\n",
            "Df Model:                          10                                                  \n",
            "Covariance Type:            nonrobust                                                  \n",
            "=====================================================================================\n",
            "                        coef    std err          t      P>|t|      [0.025      0.975]\n",
            "-------------------------------------------------------------------------------------\n",
            "Wheel Base          536.8869    167.406      3.207      0.002     203.007     870.767\n",
            "Car Length         -146.7509     82.915     -1.770      0.081    -312.120      18.619\n",
            "Car Width          -253.1559    283.452     -0.893      0.375    -818.483     312.172\n",
            "Engine Size          77.7942     21.585      3.604      0.001      34.745     120.844\n",
            "Bore Ratio        -2501.8359   1776.645     -1.408      0.164   -6045.243    1041.571\n",
            "Stroke            -1845.0962   1084.213     -1.702      0.093   -4007.490     317.298\n",
            "Compression Ratio   584.3531    119.784      4.878      0.000     345.452     823.254\n",
            "Horsepower           68.3555     24.363      2.806      0.006      19.764     116.947\n",
            "City mpg           -629.5866    432.171     -1.457      0.150   -1491.524     232.351\n",
            "Highway mpg         303.3457    375.293      0.808      0.422    -445.152    1051.844\n",
            "==============================================================================\n",
            "Omnibus:                       12.381   Durbin-Watson:                   2.243\n",
            "Prob(Omnibus):                  0.002   Jarque-Bera (JB):               22.962\n",
            "Skew:                           0.512   Prob(JB):                     1.03e-05\n",
            "Kurtosis:                       5.416   Cond. No.                     1.38e+03\n",
            "==============================================================================\n",
            "\n",
            "Notes:\n",
            "[1] R² is computed without centering (uncentered) since the model does not contain a constant.\n",
            "[2] Standard Errors assume that the covariance matrix of the errors is correctly specified.\n",
            "[3] The condition number is large, 1.38e+03. This might indicate that there are\n",
            "strong multicollinearity or other numerical problems.\n"
          ]
        }
      ],
      "source": [
        "print(regressor_OLS.summary(xname=['Wheel Base','Car Length', 'Car Width', 'Engine Size', 'Bore Ratio', 'Stroke', 'Compression Ratio', 'Horsepower', 'City mpg', 'Highway mpg' ], yname='Price'))"
      ]
    },
    {
      "cell_type": "code",
      "execution_count": null,
      "id": "bf9da5d1",
      "metadata": {
        "id": "bf9da5d1",
        "outputId": "526036b7-550f-4f7c-efcd-3614d88c7b3f"
      },
      "outputs": [
        {
          "name": "stdout",
          "output_type": "stream",
          "text": [
            "                                 OLS Regression Results                                \n",
            "=======================================================================================\n",
            "Dep. Variable:                      y   R-squared (uncentered):                   0.963\n",
            "Model:                            OLS   Adj. R-squared (uncentered):              0.958\n",
            "Method:                 Least Squares   F-statistic:                              203.1\n",
            "Date:                Thu, 31 Mar 2022   Prob (F-statistic):                    5.35e-47\n",
            "Time:                        02:42:24   Log-Likelihood:                         -754.78\n",
            "No. Observations:                  80   AIC:                                      1528.\n",
            "Df Residuals:                      71   BIC:                                      1549.\n",
            "Df Model:                           9                                                  \n",
            "Covariance Type:            nonrobust                                                  \n",
            "==============================================================================\n",
            "                 coef    std err          t      P>|t|      [0.025      0.975]\n",
            "------------------------------------------------------------------------------\n",
            "x1           495.7422    159.089      3.116      0.003     178.527     812.957\n",
            "x2          -135.4393     81.526     -1.661      0.101    -297.998      27.119\n",
            "x3          -200.5487    275.205     -0.729      0.469    -749.291     348.194\n",
            "x4            73.1300     20.748      3.525      0.001      31.759     114.501\n",
            "x5         -2417.6840   1769.257     -1.366      0.176   -5945.482    1110.114\n",
            "x6         -1945.7631   1074.403     -1.811      0.074   -4088.062     196.536\n",
            "x7           545.4543    109.423      4.985      0.000     327.271     763.637\n",
            "x8            73.9175     23.314      3.170      0.002      27.430     120.405\n",
            "x9          -293.4543    117.338     -2.501      0.015    -527.420     -59.489\n",
            "==============================================================================\n",
            "Omnibus:                       12.864   Durbin-Watson:                   2.228\n",
            "Prob(Omnibus):                  0.002   Jarque-Bera (JB):               23.949\n",
            "Skew:                           0.538   Prob(JB):                     6.30e-06\n",
            "Kurtosis:                       5.455   Cond. No.                     1.37e+03\n",
            "==============================================================================\n",
            "\n",
            "Notes:\n",
            "[1] R² is computed without centering (uncentered) since the model does not contain a constant.\n",
            "[2] Standard Errors assume that the covariance matrix of the errors is correctly specified.\n",
            "[3] The condition number is large, 1.37e+03. This might indicate that there are\n",
            "strong multicollinearity or other numerical problems.\n"
          ]
        }
      ],
      "source": [
        "x = data_sample.iloc[:,[9,10,11,16,18,19,20,21,23,]].values\n",
        "X_train, X_test, y_train, y_test= train_test_split(x, y, test_size= 0.2, random_state=0) \n",
        "regressor_OLS=sm.OLS(y_train,X_train)\n",
        "regressor_OLS= regressor_OLS.fit()\n",
        "print(regressor_OLS.summary())"
      ]
    },
    {
      "cell_type": "code",
      "execution_count": null,
      "id": "9a91edcf",
      "metadata": {
        "id": "9a91edcf",
        "outputId": "8691e786-d63d-44aa-e63a-b9ef6f17aeef"
      },
      "outputs": [
        {
          "name": "stdout",
          "output_type": "stream",
          "text": [
            "                                 OLS Regression Results                                \n",
            "=======================================================================================\n",
            "Dep. Variable:                  Price   R-squared (uncentered):                   0.963\n",
            "Model:                            OLS   Adj. R-squared (uncentered):              0.958\n",
            "Method:                 Least Squares   F-statistic:                              203.1\n",
            "Date:                Thu, 31 Mar 2022   Prob (F-statistic):                    5.35e-47\n",
            "Time:                        02:42:24   Log-Likelihood:                         -754.78\n",
            "No. Observations:                  80   AIC:                                      1528.\n",
            "Df Residuals:                      71   BIC:                                      1549.\n",
            "Df Model:                           9                                                  \n",
            "Covariance Type:            nonrobust                                                  \n",
            "=====================================================================================\n",
            "                        coef    std err          t      P>|t|      [0.025      0.975]\n",
            "-------------------------------------------------------------------------------------\n",
            "Wheel Base          495.7422    159.089      3.116      0.003     178.527     812.957\n",
            "Car Length         -135.4393     81.526     -1.661      0.101    -297.998      27.119\n",
            "Car Width          -200.5487    275.205     -0.729      0.469    -749.291     348.194\n",
            "Engine Size          73.1300     20.748      3.525      0.001      31.759     114.501\n",
            "Bore Ratio        -2417.6840   1769.257     -1.366      0.176   -5945.482    1110.114\n",
            "Stroke            -1945.7631   1074.403     -1.811      0.074   -4088.062     196.536\n",
            "Compression Ratio   545.4543    109.423      4.985      0.000     327.271     763.637\n",
            "Horsepower           73.9175     23.314      3.170      0.002      27.430     120.405\n",
            "City mpg           -293.4543    117.338     -2.501      0.015    -527.420     -59.489\n",
            "==============================================================================\n",
            "Omnibus:                       12.864   Durbin-Watson:                   2.228\n",
            "Prob(Omnibus):                  0.002   Jarque-Bera (JB):               23.949\n",
            "Skew:                           0.538   Prob(JB):                     6.30e-06\n",
            "Kurtosis:                       5.455   Cond. No.                     1.37e+03\n",
            "==============================================================================\n",
            "\n",
            "Notes:\n",
            "[1] R² is computed without centering (uncentered) since the model does not contain a constant.\n",
            "[2] Standard Errors assume that the covariance matrix of the errors is correctly specified.\n",
            "[3] The condition number is large, 1.37e+03. This might indicate that there are\n",
            "strong multicollinearity or other numerical problems.\n"
          ]
        }
      ],
      "source": [
        "print(regressor_OLS.summary(xname=['Wheel Base','Car Length', 'Car Width', 'Engine Size', 'Bore Ratio', 'Stroke', 'Compression Ratio', 'Horsepower', 'City mpg'], yname='Price'))"
      ]
    },
    {
      "cell_type": "code",
      "execution_count": null,
      "id": "bab75840",
      "metadata": {
        "id": "bab75840",
        "outputId": "a1dac821-536a-4533-a6f6-3d22397fa97f"
      },
      "outputs": [
        {
          "name": "stdout",
          "output_type": "stream",
          "text": [
            "                                 OLS Regression Results                                \n",
            "=======================================================================================\n",
            "Dep. Variable:                      y   R-squared (uncentered):                   0.962\n",
            "Model:                            OLS   Adj. R-squared (uncentered):              0.958\n",
            "Method:                 Least Squares   F-statistic:                              229.9\n",
            "Date:                Thu, 31 Mar 2022   Prob (F-statistic):                    4.44e-48\n",
            "Time:                        02:42:24   Log-Likelihood:                         -755.08\n",
            "No. Observations:                  80   AIC:                                      1526.\n",
            "Df Residuals:                      72   BIC:                                      1545.\n",
            "Df Model:                           8                                                  \n",
            "Covariance Type:            nonrobust                                                  \n",
            "==============================================================================\n",
            "                 coef    std err          t      P>|t|      [0.025      0.975]\n",
            "------------------------------------------------------------------------------\n",
            "x1           437.6776    137.248      3.189      0.002     164.079     711.277\n",
            "x2          -155.3177     76.576     -2.028      0.046    -307.970      -2.665\n",
            "x3            80.4207     18.118      4.439      0.000      44.304     116.537\n",
            "x4         -2854.9283   1658.979     -1.721      0.090   -6162.043     452.186\n",
            "x5         -2256.2818    983.074     -2.295      0.025   -4216.005    -296.559\n",
            "x6           553.8084    108.466      5.106      0.000     337.586     770.031\n",
            "x7            62.5888     17.318      3.614      0.001      28.066      97.112\n",
            "x8          -347.3475     90.801     -3.825      0.000    -528.356    -166.339\n",
            "==============================================================================\n",
            "Omnibus:                       12.299   Durbin-Watson:                   2.189\n",
            "Prob(Omnibus):                  0.002   Jarque-Bera (JB):               20.877\n",
            "Skew:                           0.552   Prob(JB):                     2.93e-05\n",
            "Kurtosis:                       5.246   Cond. No.                     1.26e+03\n",
            "==============================================================================\n",
            "\n",
            "Notes:\n",
            "[1] R² is computed without centering (uncentered) since the model does not contain a constant.\n",
            "[2] Standard Errors assume that the covariance matrix of the errors is correctly specified.\n",
            "[3] The condition number is large, 1.26e+03. This might indicate that there are\n",
            "strong multicollinearity or other numerical problems.\n"
          ]
        }
      ],
      "source": [
        "x = data_sample.iloc[:,[9,10,16,18,19,20,21,23,]].values\n",
        "X_train, X_test, y_train, y_test= train_test_split(x, y, test_size= 0.2, random_state=0) \n",
        "regressor_OLS=sm.OLS(y_train,X_train)\n",
        "regressor_OLS= regressor_OLS.fit()\n",
        "print(regressor_OLS.summary())"
      ]
    },
    {
      "cell_type": "code",
      "execution_count": null,
      "id": "7e426ac8",
      "metadata": {
        "id": "7e426ac8",
        "outputId": "c7d91fd0-33dd-4110-9c55-10f7589e11fc"
      },
      "outputs": [
        {
          "name": "stdout",
          "output_type": "stream",
          "text": [
            "                                 OLS Regression Results                                \n",
            "=======================================================================================\n",
            "Dep. Variable:                  Price   R-squared (uncentered):                   0.962\n",
            "Model:                            OLS   Adj. R-squared (uncentered):              0.958\n",
            "Method:                 Least Squares   F-statistic:                              229.9\n",
            "Date:                Thu, 31 Mar 2022   Prob (F-statistic):                    4.44e-48\n",
            "Time:                        02:42:24   Log-Likelihood:                         -755.08\n",
            "No. Observations:                  80   AIC:                                      1526.\n",
            "Df Residuals:                      72   BIC:                                      1545.\n",
            "Df Model:                           8                                                  \n",
            "Covariance Type:            nonrobust                                                  \n",
            "=====================================================================================\n",
            "                        coef    std err          t      P>|t|      [0.025      0.975]\n",
            "-------------------------------------------------------------------------------------\n",
            "Wheel Base          437.6776    137.248      3.189      0.002     164.079     711.277\n",
            "Car Length         -155.3177     76.576     -2.028      0.046    -307.970      -2.665\n",
            "Engine Size          80.4207     18.118      4.439      0.000      44.304     116.537\n",
            "Bore Ratio        -2854.9283   1658.979     -1.721      0.090   -6162.043     452.186\n",
            "Stroke            -2256.2818    983.074     -2.295      0.025   -4216.005    -296.559\n",
            "Compression Ratio   553.8084    108.466      5.106      0.000     337.586     770.031\n",
            "Horsepower           62.5888     17.318      3.614      0.001      28.066      97.112\n",
            "City mpg           -347.3475     90.801     -3.825      0.000    -528.356    -166.339\n",
            "==============================================================================\n",
            "Omnibus:                       12.299   Durbin-Watson:                   2.189\n",
            "Prob(Omnibus):                  0.002   Jarque-Bera (JB):               20.877\n",
            "Skew:                           0.552   Prob(JB):                     2.93e-05\n",
            "Kurtosis:                       5.246   Cond. No.                     1.26e+03\n",
            "==============================================================================\n",
            "\n",
            "Notes:\n",
            "[1] R² is computed without centering (uncentered) since the model does not contain a constant.\n",
            "[2] Standard Errors assume that the covariance matrix of the errors is correctly specified.\n",
            "[3] The condition number is large, 1.26e+03. This might indicate that there are\n",
            "strong multicollinearity or other numerical problems.\n"
          ]
        }
      ],
      "source": [
        "print(regressor_OLS.summary(xname=['Wheel Base','Car Length', 'Engine Size', 'Bore Ratio', 'Stroke', 'Compression Ratio', 'Horsepower', 'City mpg'], yname='Price'))"
      ]
    },
    {
      "cell_type": "code",
      "execution_count": null,
      "id": "2341cca8",
      "metadata": {
        "id": "2341cca8",
        "outputId": "b1f0ef3d-21ba-426f-c264-5161644ced67"
      },
      "outputs": [
        {
          "name": "stdout",
          "output_type": "stream",
          "text": [
            "                                 OLS Regression Results                                \n",
            "=======================================================================================\n",
            "Dep. Variable:                      y   R-squared (uncentered):                   0.961\n",
            "Model:                            OLS   Adj. R-squared (uncentered):              0.957\n",
            "Method:                 Least Squares   F-statistic:                              255.5\n",
            "Date:                Thu, 31 Mar 2022   Prob (F-statistic):                    1.13e-48\n",
            "Time:                        02:42:24   Log-Likelihood:                         -756.69\n",
            "No. Observations:                  80   AIC:                                      1527.\n",
            "Df Residuals:                      73   BIC:                                      1544.\n",
            "Df Model:                           7                                                  \n",
            "Covariance Type:            nonrobust                                                  \n",
            "==============================================================================\n",
            "                 coef    std err          t      P>|t|      [0.025      0.975]\n",
            "------------------------------------------------------------------------------\n",
            "x1           398.6450    137.167      2.906      0.005     125.271     672.019\n",
            "x2          -176.0134     76.635     -2.297      0.025    -328.748     -23.279\n",
            "x3            82.0205     18.335      4.473      0.000      45.479     118.562\n",
            "x4         -2427.6168    991.072     -2.449      0.017   -4402.821    -452.413\n",
            "x5           601.4282    106.276      5.659      0.000     389.620     813.236\n",
            "x6            51.6473     16.324      3.164      0.002      19.114      84.180\n",
            "x7          -389.7292     88.564     -4.401      0.000    -566.236    -213.222\n",
            "==============================================================================\n",
            "Omnibus:                       10.794   Durbin-Watson:                   2.147\n",
            "Prob(Omnibus):                  0.005   Jarque-Bera (JB):               14.406\n",
            "Skew:                           0.586   Prob(JB):                     0.000744\n",
            "Kurtosis:                       4.717   Cond. No.                         739.\n",
            "==============================================================================\n",
            "\n",
            "Notes:\n",
            "[1] R² is computed without centering (uncentered) since the model does not contain a constant.\n",
            "[2] Standard Errors assume that the covariance matrix of the errors is correctly specified.\n"
          ]
        }
      ],
      "source": [
        "x = data_sample.iloc[:,[9,10,16,19,20,21,23,]].values\n",
        "X_train, X_test, y_train, y_test= train_test_split(x, y, test_size= 0.2, random_state=0) \n",
        "regressor_OLS=sm.OLS(y_train,X_train)\n",
        "regressor_OLS= regressor_OLS.fit()\n",
        "print(regressor_OLS.summary())"
      ]
    },
    {
      "cell_type": "code",
      "execution_count": null,
      "id": "af14875d",
      "metadata": {
        "id": "af14875d",
        "outputId": "0f51f5c0-02ad-4954-d57e-ea86badec232"
      },
      "outputs": [
        {
          "name": "stdout",
          "output_type": "stream",
          "text": [
            "                                 OLS Regression Results                                \n",
            "=======================================================================================\n",
            "Dep. Variable:                  Price   R-squared (uncentered):                   0.961\n",
            "Model:                            OLS   Adj. R-squared (uncentered):              0.957\n",
            "Method:                 Least Squares   F-statistic:                              255.5\n",
            "Date:                Thu, 31 Mar 2022   Prob (F-statistic):                    1.13e-48\n",
            "Time:                        02:42:24   Log-Likelihood:                         -756.69\n",
            "No. Observations:                  80   AIC:                                      1527.\n",
            "Df Residuals:                      73   BIC:                                      1544.\n",
            "Df Model:                           7                                                  \n",
            "Covariance Type:            nonrobust                                                  \n",
            "=====================================================================================\n",
            "                        coef    std err          t      P>|t|      [0.025      0.975]\n",
            "-------------------------------------------------------------------------------------\n",
            "Wheel Base          398.6450    137.167      2.906      0.005     125.271     672.019\n",
            "Car Length         -176.0134     76.635     -2.297      0.025    -328.748     -23.279\n",
            "Engine Size          82.0205     18.335      4.473      0.000      45.479     118.562\n",
            "Stroke            -2427.6168    991.072     -2.449      0.017   -4402.821    -452.413\n",
            "Compression Ratio   601.4282    106.276      5.659      0.000     389.620     813.236\n",
            "Horsepower           51.6473     16.324      3.164      0.002      19.114      84.180\n",
            "City mpg           -389.7292     88.564     -4.401      0.000    -566.236    -213.222\n",
            "==============================================================================\n",
            "Omnibus:                       10.794   Durbin-Watson:                   2.147\n",
            "Prob(Omnibus):                  0.005   Jarque-Bera (JB):               14.406\n",
            "Skew:                           0.586   Prob(JB):                     0.000744\n",
            "Kurtosis:                       4.717   Cond. No.                         739.\n",
            "==============================================================================\n",
            "\n",
            "Notes:\n",
            "[1] R² is computed without centering (uncentered) since the model does not contain a constant.\n",
            "[2] Standard Errors assume that the covariance matrix of the errors is correctly specified.\n"
          ]
        }
      ],
      "source": [
        "print(regressor_OLS.summary(xname=['Wheel Base','Car Length', 'Engine Size', 'Stroke', 'Compression Ratio', 'Horsepower', 'City mpg'], yname='Price'))"
      ]
    },
    {
      "cell_type": "code",
      "execution_count": null,
      "id": "a7e116b0",
      "metadata": {
        "id": "a7e116b0",
        "outputId": "43355360-ca37-4bef-ce41-b11b8fa9740b"
      },
      "outputs": [
        {
          "name": "stdout",
          "output_type": "stream",
          "text": [
            "                                 OLS Regression Results                                \n",
            "=======================================================================================\n",
            "Dep. Variable:                      y   R-squared (uncentered):                   0.958\n",
            "Model:                            OLS   Adj. R-squared (uncentered):              0.955\n",
            "Method:                 Least Squares   F-statistic:                              281.0\n",
            "Date:                Thu, 31 Mar 2022   Prob (F-statistic):                    8.18e-49\n",
            "Time:                        02:42:25   Log-Likelihood:                         -759.48\n",
            "No. Observations:                  80   AIC:                                      1531.\n",
            "Df Residuals:                      74   BIC:                                      1545.\n",
            "Df Model:                           6                                                  \n",
            "Covariance Type:            nonrobust                                                  \n",
            "==============================================================================\n",
            "                 coef    std err          t      P>|t|      [0.025      0.975]\n",
            "------------------------------------------------------------------------------\n",
            "x1            95.9710     39.138      2.452      0.017      17.986     173.956\n",
            "x2            82.3389     18.857      4.367      0.000      44.766     119.912\n",
            "x3         -2424.2259   1019.297     -2.378      0.020   -4455.220    -393.232\n",
            "x4           575.8653    108.702      5.298      0.000     359.272     792.459\n",
            "x5            41.0248     16.101      2.548      0.013       8.943      73.106\n",
            "x6          -371.0365     90.700     -4.091      0.000    -551.761    -190.312\n",
            "==============================================================================\n",
            "Omnibus:                        8.760   Durbin-Watson:                   2.154\n",
            "Prob(Omnibus):                  0.013   Jarque-Bera (JB):               11.346\n",
            "Skew:                           0.474   Prob(JB):                      0.00344\n",
            "Kurtosis:                       4.582   Cond. No.                         565.\n",
            "==============================================================================\n",
            "\n",
            "Notes:\n",
            "[1] R² is computed without centering (uncentered) since the model does not contain a constant.\n",
            "[2] Standard Errors assume that the covariance matrix of the errors is correctly specified.\n"
          ]
        }
      ],
      "source": [
        "x = data_sample.iloc[:,[9,16,19,20,21,23,]].values\n",
        "X_train, X_test, y_train, y_test= train_test_split(x, y, test_size= 0.2, random_state=0) \n",
        "regressor_OLS=sm.OLS(y_train,X_train)\n",
        "regressor_OLS= regressor_OLS.fit()\n",
        "print(regressor_OLS.summary())"
      ]
    },
    {
      "cell_type": "code",
      "execution_count": null,
      "id": "e68b6bdf",
      "metadata": {
        "id": "e68b6bdf",
        "outputId": "61e1c6a2-24b1-42e2-dc4a-a1acf91a0fc5"
      },
      "outputs": [
        {
          "name": "stdout",
          "output_type": "stream",
          "text": [
            "                                 OLS Regression Results                                \n",
            "=======================================================================================\n",
            "Dep. Variable:                  Price   R-squared (uncentered):                   0.958\n",
            "Model:                            OLS   Adj. R-squared (uncentered):              0.955\n",
            "Method:                 Least Squares   F-statistic:                              281.0\n",
            "Date:                Thu, 31 Mar 2022   Prob (F-statistic):                    8.18e-49\n",
            "Time:                        02:42:25   Log-Likelihood:                         -759.48\n",
            "No. Observations:                  80   AIC:                                      1531.\n",
            "Df Residuals:                      74   BIC:                                      1545.\n",
            "Df Model:                           6                                                  \n",
            "Covariance Type:            nonrobust                                                  \n",
            "=====================================================================================\n",
            "                        coef    std err          t      P>|t|      [0.025      0.975]\n",
            "-------------------------------------------------------------------------------------\n",
            "Wheel Base           95.9710     39.138      2.452      0.017      17.986     173.956\n",
            "Engine Size          82.3389     18.857      4.367      0.000      44.766     119.912\n",
            "Stroke            -2424.2259   1019.297     -2.378      0.020   -4455.220    -393.232\n",
            "Compression Ratio   575.8653    108.702      5.298      0.000     359.272     792.459\n",
            "Horsepower           41.0248     16.101      2.548      0.013       8.943      73.106\n",
            "City mpg           -371.0365     90.700     -4.091      0.000    -551.761    -190.312\n",
            "==============================================================================\n",
            "Omnibus:                        8.760   Durbin-Watson:                   2.154\n",
            "Prob(Omnibus):                  0.013   Jarque-Bera (JB):               11.346\n",
            "Skew:                           0.474   Prob(JB):                      0.00344\n",
            "Kurtosis:                       4.582   Cond. No.                         565.\n",
            "==============================================================================\n",
            "\n",
            "Notes:\n",
            "[1] R² is computed without centering (uncentered) since the model does not contain a constant.\n",
            "[2] Standard Errors assume that the covariance matrix of the errors is correctly specified.\n"
          ]
        }
      ],
      "source": [
        "print(regressor_OLS.summary(xname=['Wheel Base', 'Engine Size', 'Stroke', 'Compression Ratio', 'Horsepower', 'City mpg'], yname='Price'))"
      ]
    },
    {
      "cell_type": "code",
      "execution_count": null,
      "id": "2d7a2acd",
      "metadata": {
        "id": "2d7a2acd",
        "outputId": "ac62cd40-6ee2-4d96-89b8-e368a30c3ff1"
      },
      "outputs": [
        {
          "name": "stdout",
          "output_type": "stream",
          "text": [
            "                                 OLS Regression Results                                \n",
            "=======================================================================================\n",
            "Dep. Variable:                      y   R-squared (uncentered):                   0.955\n",
            "Model:                            OLS   Adj. R-squared (uncentered):              0.952\n",
            "Method:                 Least Squares   F-statistic:                              314.9\n",
            "Date:                Thu, 31 Mar 2022   Prob (F-statistic):                    7.81e-49\n",
            "Time:                        02:42:25   Log-Likelihood:                         -762.61\n",
            "No. Observations:                  80   AIC:                                      1535.\n",
            "Df Residuals:                      75   BIC:                                      1547.\n",
            "Df Model:                           5                                                  \n",
            "Covariance Type:            nonrobust                                                  \n",
            "==============================================================================\n",
            "                 coef    std err          t      P>|t|      [0.025      0.975]\n",
            "------------------------------------------------------------------------------\n",
            "x1            94.1201     18.834      4.997      0.000      56.601     131.639\n",
            "x2         -1336.9966    947.986     -1.410      0.163   -3225.481     551.488\n",
            "x3           604.2524    111.637      5.413      0.000     381.860     826.645\n",
            "x4            51.4726     16.037      3.210      0.002      19.525      83.420\n",
            "x5          -250.1013     78.622     -3.181      0.002    -406.725     -93.478\n",
            "==============================================================================\n",
            "Omnibus:                        4.680   Durbin-Watson:                   2.166\n",
            "Prob(Omnibus):                  0.096   Jarque-Bera (JB):                4.853\n",
            "Skew:                           0.273   Prob(JB):                       0.0884\n",
            "Kurtosis:                       4.076   Cond. No.                         451.\n",
            "==============================================================================\n",
            "\n",
            "Notes:\n",
            "[1] R² is computed without centering (uncentered) since the model does not contain a constant.\n",
            "[2] Standard Errors assume that the covariance matrix of the errors is correctly specified.\n"
          ]
        }
      ],
      "source": [
        "x = data_sample.iloc[:,[16,19,20,21,23,]].values\n",
        "X_train, X_test, y_train, y_test= train_test_split(x, y, test_size= 0.2, random_state=0) \n",
        "regressor_OLS=sm.OLS(y_train,X_train)\n",
        "regressor_OLS= regressor_OLS.fit()\n",
        "print(regressor_OLS.summary())"
      ]
    },
    {
      "cell_type": "code",
      "execution_count": null,
      "id": "26321d11",
      "metadata": {
        "id": "26321d11",
        "outputId": "329c435d-3c13-40e5-c0a1-2a7dc7cdda1d"
      },
      "outputs": [
        {
          "name": "stdout",
          "output_type": "stream",
          "text": [
            "                                 OLS Regression Results                                \n",
            "=======================================================================================\n",
            "Dep. Variable:                  Price   R-squared (uncentered):                   0.955\n",
            "Model:                            OLS   Adj. R-squared (uncentered):              0.952\n",
            "Method:                 Least Squares   F-statistic:                              314.9\n",
            "Date:                Thu, 31 Mar 2022   Prob (F-statistic):                    7.81e-49\n",
            "Time:                        02:42:25   Log-Likelihood:                         -762.61\n",
            "No. Observations:                  80   AIC:                                      1535.\n",
            "Df Residuals:                      75   BIC:                                      1547.\n",
            "Df Model:                           5                                                  \n",
            "Covariance Type:            nonrobust                                                  \n",
            "=====================================================================================\n",
            "                        coef    std err          t      P>|t|      [0.025      0.975]\n",
            "-------------------------------------------------------------------------------------\n",
            "Engine Size          94.1201     18.834      4.997      0.000      56.601     131.639\n",
            "Stroke            -1336.9966    947.986     -1.410      0.163   -3225.481     551.488\n",
            "Compression Ratio   604.2524    111.637      5.413      0.000     381.860     826.645\n",
            "Horsepower           51.4726     16.037      3.210      0.002      19.525      83.420\n",
            "City mpg           -250.1013     78.622     -3.181      0.002    -406.725     -93.478\n",
            "==============================================================================\n",
            "Omnibus:                        4.680   Durbin-Watson:                   2.166\n",
            "Prob(Omnibus):                  0.096   Jarque-Bera (JB):                4.853\n",
            "Skew:                           0.273   Prob(JB):                       0.0884\n",
            "Kurtosis:                       4.076   Cond. No.                         451.\n",
            "==============================================================================\n",
            "\n",
            "Notes:\n",
            "[1] R² is computed without centering (uncentered) since the model does not contain a constant.\n",
            "[2] Standard Errors assume that the covariance matrix of the errors is correctly specified.\n"
          ]
        }
      ],
      "source": [
        "print(regressor_OLS.summary(xname=['Engine Size', 'Stroke', 'Compression Ratio', 'Horsepower', 'City mpg'], yname='Price'))"
      ]
    },
    {
      "cell_type": "code",
      "execution_count": null,
      "id": "4409b9da",
      "metadata": {
        "id": "4409b9da",
        "outputId": "d0e7d6cf-a8ff-4166-8814-f3556b6bb4ed"
      },
      "outputs": [
        {
          "name": "stdout",
          "output_type": "stream",
          "text": [
            "                                 OLS Regression Results                                \n",
            "=======================================================================================\n",
            "Dep. Variable:                      y   R-squared (uncentered):                   0.953\n",
            "Model:                            OLS   Adj. R-squared (uncentered):              0.951\n",
            "Method:                 Least Squares   F-statistic:                              388.1\n",
            "Date:                Thu, 31 Mar 2022   Prob (F-statistic):                    9.89e-50\n",
            "Time:                        02:42:25   Log-Likelihood:                         -763.66\n",
            "No. Observations:                  80   AIC:                                      1535.\n",
            "Df Residuals:                      76   BIC:                                      1545.\n",
            "Df Model:                           4                                                  \n",
            "Covariance Type:            nonrobust                                                  \n",
            "==============================================================================\n",
            "                 coef    std err          t      P>|t|      [0.025      0.975]\n",
            "------------------------------------------------------------------------------\n",
            "x1            81.6410     16.734      4.879      0.000      48.312     114.970\n",
            "x2           610.2411    112.280      5.435      0.000     386.616     833.866\n",
            "x3            45.9439     15.652      2.935      0.004      14.771      77.117\n",
            "x4          -339.2620     47.046     -7.211      0.000    -432.962    -245.562\n",
            "==============================================================================\n",
            "Omnibus:                        6.768   Durbin-Watson:                   2.086\n",
            "Prob(Omnibus):                  0.034   Jarque-Bera (JB):                7.285\n",
            "Skew:                           0.436   Prob(JB):                       0.0262\n",
            "Kurtosis:                       4.194   Cond. No.                         55.1\n",
            "==============================================================================\n",
            "\n",
            "Notes:\n",
            "[1] R² is computed without centering (uncentered) since the model does not contain a constant.\n",
            "[2] Standard Errors assume that the covariance matrix of the errors is correctly specified.\n"
          ]
        }
      ],
      "source": [
        "x = data_sample.iloc[:,[16,20,21,23,]].values\n",
        "X_train, X_test, y_train, y_test= train_test_split(x, y, test_size= 0.2, random_state=0) \n",
        "regressor_OLS=sm.OLS(y_train,X_train)\n",
        "regressor_OLS= regressor_OLS.fit()\n",
        "print(regressor_OLS.summary())"
      ]
    },
    {
      "cell_type": "code",
      "execution_count": null,
      "id": "daf1c46e",
      "metadata": {
        "id": "daf1c46e",
        "outputId": "74ae105b-f00e-4a8a-e20e-1c1b945fbf30"
      },
      "outputs": [
        {
          "name": "stdout",
          "output_type": "stream",
          "text": [
            "                                 OLS Regression Results                                \n",
            "=======================================================================================\n",
            "Dep. Variable:                  Price   R-squared (uncentered):                   0.953\n",
            "Model:                            OLS   Adj. R-squared (uncentered):              0.951\n",
            "Method:                 Least Squares   F-statistic:                              388.1\n",
            "Date:                Thu, 31 Mar 2022   Prob (F-statistic):                    9.89e-50\n",
            "Time:                        02:42:25   Log-Likelihood:                         -763.66\n",
            "No. Observations:                  80   AIC:                                      1535.\n",
            "Df Residuals:                      76   BIC:                                      1545.\n",
            "Df Model:                           4                                                  \n",
            "Covariance Type:            nonrobust                                                  \n",
            "=====================================================================================\n",
            "                        coef    std err          t      P>|t|      [0.025      0.975]\n",
            "-------------------------------------------------------------------------------------\n",
            "Engine Size          81.6410     16.734      4.879      0.000      48.312     114.970\n",
            "Compression Ratio   610.2411    112.280      5.435      0.000     386.616     833.866\n",
            "Horsepower           45.9439     15.652      2.935      0.004      14.771      77.117\n",
            "City mpg           -339.2620     47.046     -7.211      0.000    -432.962    -245.562\n",
            "==============================================================================\n",
            "Omnibus:                        6.768   Durbin-Watson:                   2.086\n",
            "Prob(Omnibus):                  0.034   Jarque-Bera (JB):                7.285\n",
            "Skew:                           0.436   Prob(JB):                       0.0262\n",
            "Kurtosis:                       4.194   Cond. No.                         55.1\n",
            "==============================================================================\n",
            "\n",
            "Notes:\n",
            "[1] R² is computed without centering (uncentered) since the model does not contain a constant.\n",
            "[2] Standard Errors assume that the covariance matrix of the errors is correctly specified.\n"
          ]
        }
      ],
      "source": [
        "print(regressor_OLS.summary(xname=['Engine Size', 'Compression Ratio', 'Horsepower', 'City mpg'], yname='Price'))"
      ]
    },
    {
      "cell_type": "code",
      "execution_count": null,
      "id": "7bcd848e",
      "metadata": {
        "scrolled": true,
        "id": "7bcd848e",
        "outputId": "fe362770-b3cf-42bb-8ea7-00abdfc7a694"
      },
      "outputs": [
        {
          "name": "stdout",
          "output_type": "stream",
          "text": [
            "                                 OLS Regression Results                                \n",
            "=======================================================================================\n",
            "Dep. Variable:                      y   R-squared (uncentered):                   0.948\n",
            "Model:                            OLS   Adj. R-squared (uncentered):              0.946\n",
            "Method:                 Least Squares   F-statistic:                              468.3\n",
            "Date:                Thu, 31 Mar 2022   Prob (F-statistic):                    2.47e-49\n",
            "Time:                        02:42:25   Log-Likelihood:                         -767.95\n",
            "No. Observations:                  80   AIC:                                      1542.\n",
            "Df Residuals:                      77   BIC:                                      1549.\n",
            "Df Model:                           3                                                  \n",
            "Covariance Type:            nonrobust                                                  \n",
            "==============================================================================\n",
            "                 coef    std err          t      P>|t|      [0.025      0.975]\n",
            "------------------------------------------------------------------------------\n",
            "x1           126.5668      7.094     17.842      0.000     112.441     140.692\n",
            "x2           556.4253    116.123      4.792      0.000     325.195     787.655\n",
            "x3          -349.6220     49.179     -7.109      0.000    -447.550    -251.694\n",
            "==============================================================================\n",
            "Omnibus:                        4.561   Durbin-Watson:                   1.892\n",
            "Prob(Omnibus):                  0.102   Jarque-Bera (JB):                4.147\n",
            "Skew:                           0.348   Prob(JB):                        0.126\n",
            "Kurtosis:                       3.872   Cond. No.                         41.4\n",
            "==============================================================================\n",
            "\n",
            "Notes:\n",
            "[1] R² is computed without centering (uncentered) since the model does not contain a constant.\n",
            "[2] Standard Errors assume that the covariance matrix of the errors is correctly specified.\n"
          ]
        }
      ],
      "source": [
        "x = data_sample.iloc[:,[16,20,23,]].values\n",
        "X_train, X_test, y_train, y_test= train_test_split(x, y, test_size= 0.2, random_state=0) \n",
        "regressor_OLS=sm.OLS(y_train,X_train)\n",
        "regressor_OLS= regressor_OLS.fit()\n",
        "print(regressor_OLS.summary())"
      ]
    },
    {
      "cell_type": "code",
      "execution_count": null,
      "id": "16f56cec",
      "metadata": {
        "id": "16f56cec",
        "outputId": "79db702d-6621-4277-fa8b-27d9a610eef3"
      },
      "outputs": [
        {
          "name": "stdout",
          "output_type": "stream",
          "text": [
            "                                 OLS Regression Results                                \n",
            "=======================================================================================\n",
            "Dep. Variable:                  Price   R-squared (uncentered):                   0.948\n",
            "Model:                            OLS   Adj. R-squared (uncentered):              0.946\n",
            "Method:                 Least Squares   F-statistic:                              468.3\n",
            "Date:                Thu, 31 Mar 2022   Prob (F-statistic):                    2.47e-49\n",
            "Time:                        02:42:26   Log-Likelihood:                         -767.95\n",
            "No. Observations:                  80   AIC:                                      1542.\n",
            "Df Residuals:                      77   BIC:                                      1549.\n",
            "Df Model:                           3                                                  \n",
            "Covariance Type:            nonrobust                                                  \n",
            "=====================================================================================\n",
            "                        coef    std err          t      P>|t|      [0.025      0.975]\n",
            "-------------------------------------------------------------------------------------\n",
            "Engine Size         126.5668      7.094     17.842      0.000     112.441     140.692\n",
            "Compression Ratio   556.4253    116.123      4.792      0.000     325.195     787.655\n",
            "City mpg           -349.6220     49.179     -7.109      0.000    -447.550    -251.694\n",
            "==============================================================================\n",
            "Omnibus:                        4.561   Durbin-Watson:                   1.892\n",
            "Prob(Omnibus):                  0.102   Jarque-Bera (JB):                4.147\n",
            "Skew:                           0.348   Prob(JB):                        0.126\n",
            "Kurtosis:                       3.872   Cond. No.                         41.4\n",
            "==============================================================================\n",
            "\n",
            "Notes:\n",
            "[1] R² is computed without centering (uncentered) since the model does not contain a constant.\n",
            "[2] Standard Errors assume that the covariance matrix of the errors is correctly specified.\n"
          ]
        }
      ],
      "source": [
        "print(regressor_OLS.summary(xname=['Engine Size', 'Compression Ratio', 'City mpg'], yname='Price'))"
      ]
    },
    {
      "cell_type": "code",
      "execution_count": null,
      "id": "97390ede",
      "metadata": {
        "id": "97390ede"
      },
      "outputs": [],
      "source": [
        "x_data = data_sample.iloc[:,[16,20,23,]].values\n",
        "y_data = data_sample.iloc[:, -1].values"
      ]
    },
    {
      "cell_type": "code",
      "execution_count": null,
      "id": "2790aeba",
      "metadata": {
        "id": "2790aeba"
      },
      "outputs": [],
      "source": [
        "X_data_train, X_data_test, y_data_train, y_data_test= train_test_split(x_data, y_data, test_size= 0.2, random_state=0) \n"
      ]
    },
    {
      "cell_type": "code",
      "execution_count": null,
      "id": "05ca0ddc",
      "metadata": {
        "id": "05ca0ddc",
        "outputId": "1dd785b4-8563-4d5b-fd33-112322d94f10"
      },
      "outputs": [
        {
          "data": {
            "text/plain": [
              "LinearRegression()"
            ]
          },
          "execution_count": 35,
          "metadata": {},
          "output_type": "execute_result"
        }
      ],
      "source": [
        "regressor= LinearRegression()  \n",
        "regressor.fit(X_data_train, y_data_train) "
      ]
    },
    {
      "cell_type": "code",
      "execution_count": null,
      "id": "7eaf780c",
      "metadata": {
        "id": "7eaf780c"
      },
      "outputs": [],
      "source": [
        "y_data_pred= regressor.predict(X_data_test)  \n"
      ]
    },
    {
      "cell_type": "code",
      "execution_count": null,
      "id": "a3dc1b6c",
      "metadata": {
        "scrolled": true,
        "id": "a3dc1b6c",
        "outputId": "c0bc1bd3-a0f5-48e1-d036-e2d68309e520"
      },
      "outputs": [
        {
          "name": "stdout",
          "output_type": "stream",
          "text": [
            "Train Score:  0.7652839436762445\n",
            "Test Score:  0.5203154604958011\n"
          ]
        }
      ],
      "source": [
        "print('Train Score: ', regressor.score(X_data_train, y_data_train))  \n",
        "print('Test Score: ', regressor.score(X_data_test, y_data_test))  "
      ]
    },
    {
      "cell_type": "code",
      "execution_count": null,
      "id": "79861fc1",
      "metadata": {
        "id": "79861fc1"
      },
      "outputs": [],
      "source": [
        "new_data = pd.DataFrame({'Real Values':y_data_test, 'Predicted Values':y_data_pred})"
      ]
    },
    {
      "cell_type": "code",
      "execution_count": null,
      "id": "a2eb042d",
      "metadata": {
        "id": "a2eb042d",
        "outputId": "0880df20-48f7-4298-d4fc-d66bf10ff87c"
      },
      "outputs": [
        {
          "data": {
            "text/html": [
              "<div>\n",
              "<style scoped>\n",
              "    .dataframe tbody tr th:only-of-type {\n",
              "        vertical-align: middle;\n",
              "    }\n",
              "\n",
              "    .dataframe tbody tr th {\n",
              "        vertical-align: top;\n",
              "    }\n",
              "\n",
              "    .dataframe thead th {\n",
              "        text-align: right;\n",
              "    }\n",
              "</style>\n",
              "<table border=\"1\" class=\"dataframe\">\n",
              "  <thead>\n",
              "    <tr style=\"text-align: right;\">\n",
              "      <th></th>\n",
              "      <th>Real Values</th>\n",
              "      <th>Predicted Values</th>\n",
              "    </tr>\n",
              "  </thead>\n",
              "  <tbody>\n",
              "    <tr>\n",
              "      <th>0</th>\n",
              "      <td>6692.0</td>\n",
              "      <td>5687.391978</td>\n",
              "    </tr>\n",
              "    <tr>\n",
              "      <th>1</th>\n",
              "      <td>12440.0</td>\n",
              "      <td>14260.235162</td>\n",
              "    </tr>\n",
              "    <tr>\n",
              "      <th>2</th>\n",
              "      <td>8916.5</td>\n",
              "      <td>2275.332039</td>\n",
              "    </tr>\n",
              "    <tr>\n",
              "      <th>3</th>\n",
              "      <td>13200.0</td>\n",
              "      <td>20491.139990</td>\n",
              "    </tr>\n",
              "    <tr>\n",
              "      <th>4</th>\n",
              "      <td>9959.0</td>\n",
              "      <td>10673.363653</td>\n",
              "    </tr>\n",
              "    <tr>\n",
              "      <th>5</th>\n",
              "      <td>10245.0</td>\n",
              "      <td>11055.652509</td>\n",
              "    </tr>\n",
              "    <tr>\n",
              "      <th>6</th>\n",
              "      <td>23875.0</td>\n",
              "      <td>16350.893519</td>\n",
              "    </tr>\n",
              "    <tr>\n",
              "      <th>7</th>\n",
              "      <td>5499.0</td>\n",
              "      <td>6413.562477</td>\n",
              "    </tr>\n",
              "    <tr>\n",
              "      <th>8</th>\n",
              "      <td>11694.0</td>\n",
              "      <td>10584.144278</td>\n",
              "    </tr>\n",
              "    <tr>\n",
              "      <th>9</th>\n",
              "      <td>7463.0</td>\n",
              "      <td>8831.165089</td>\n",
              "    </tr>\n",
              "    <tr>\n",
              "      <th>10</th>\n",
              "      <td>7349.0</td>\n",
              "      <td>6413.562477</td>\n",
              "    </tr>\n",
              "    <tr>\n",
              "      <th>11</th>\n",
              "      <td>13495.0</td>\n",
              "      <td>14643.733078</td>\n",
              "    </tr>\n",
              "    <tr>\n",
              "      <th>12</th>\n",
              "      <td>11595.0</td>\n",
              "      <td>10656.583441</td>\n",
              "    </tr>\n",
              "    <tr>\n",
              "      <th>13</th>\n",
              "      <td>7129.0</td>\n",
              "      <td>6280.942474</td>\n",
              "    </tr>\n",
              "    <tr>\n",
              "      <th>14</th>\n",
              "      <td>18150.0</td>\n",
              "      <td>14718.747536</td>\n",
              "    </tr>\n",
              "    <tr>\n",
              "      <th>15</th>\n",
              "      <td>18920.0</td>\n",
              "      <td>15979.182400</td>\n",
              "    </tr>\n",
              "    <tr>\n",
              "      <th>16</th>\n",
              "      <td>9258.0</td>\n",
              "      <td>7793.778662</td>\n",
              "    </tr>\n",
              "    <tr>\n",
              "      <th>17</th>\n",
              "      <td>8499.0</td>\n",
              "      <td>11500.854675</td>\n",
              "    </tr>\n",
              "    <tr>\n",
              "      <th>18</th>\n",
              "      <td>7957.0</td>\n",
              "      <td>8983.297775</td>\n",
              "    </tr>\n",
              "    <tr>\n",
              "      <th>19</th>\n",
              "      <td>7463.0</td>\n",
              "      <td>8831.165089</td>\n",
              "    </tr>\n",
              "  </tbody>\n",
              "</table>\n",
              "</div>"
            ],
            "text/plain": [
              "    Real Values  Predicted Values\n",
              "0        6692.0       5687.391978\n",
              "1       12440.0      14260.235162\n",
              "2        8916.5       2275.332039\n",
              "3       13200.0      20491.139990\n",
              "4        9959.0      10673.363653\n",
              "5       10245.0      11055.652509\n",
              "6       23875.0      16350.893519\n",
              "7        5499.0       6413.562477\n",
              "8       11694.0      10584.144278\n",
              "9        7463.0       8831.165089\n",
              "10       7349.0       6413.562477\n",
              "11      13495.0      14643.733078\n",
              "12      11595.0      10656.583441\n",
              "13       7129.0       6280.942474\n",
              "14      18150.0      14718.747536\n",
              "15      18920.0      15979.182400\n",
              "16       9258.0       7793.778662\n",
              "17       8499.0      11500.854675\n",
              "18       7957.0       8983.297775\n",
              "19       7463.0       8831.165089"
            ]
          },
          "execution_count": 39,
          "metadata": {},
          "output_type": "execute_result"
        }
      ],
      "source": [
        "new_data"
      ]
    },
    {
      "cell_type": "code",
      "execution_count": null,
      "id": "c9c88c7f",
      "metadata": {
        "id": "c9c88c7f"
      },
      "outputs": [],
      "source": [
        ""
      ]
    }
  ],
  "metadata": {
    "kernelspec": {
      "display_name": "Python 3 (ipykernel)",
      "language": "python",
      "name": "python3"
    },
    "language_info": {
      "codemirror_mode": {
        "name": "ipython",
        "version": 3
      },
      "file_extension": ".py",
      "mimetype": "text/x-python",
      "name": "python",
      "nbconvert_exporter": "python",
      "pygments_lexer": "ipython3",
      "version": "3.9.7"
    },
    "colab": {
      "name": "3ISA_lastimosa_reigner_backward_elim.ipynb",
      "provenance": [],
      "include_colab_link": true
    }
  },
  "nbformat": 4,
  "nbformat_minor": 5
}